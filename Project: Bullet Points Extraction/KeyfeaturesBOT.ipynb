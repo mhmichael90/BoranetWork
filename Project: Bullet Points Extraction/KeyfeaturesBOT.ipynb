{
 "cells": [
  {
   "cell_type": "code",
   "execution_count": 10,
   "metadata": {},
   "outputs": [
    {
     "name": "stdout",
     "output_type": "stream",
     "text": [
      "Dixie Everyday disposable paper plates are strong, attractive, and designed to make mealtime hassle-free\n",
      "The 10 inch plate is the perfect size for dinner, from everyday meals to parties and picnics\n",
      "2x stronger than the leading comparable store brand paper plate\n",
      "Microwave Safe, Cut Resistant, and Soak-Proof Shield that can handle anything from salad dressing to burger grease\n",
      "Includes 220 plates, 10-1/16 inch disposable paper plates (5 packs of 44 plates each)\n"
     ]
    }
   ],
   "source": [
    "# Property of Michael\n",
    "# FF & Chrome Driver import by selenium\n",
    "from selenium import webdriver\n",
    "\n",
    "# Launch Firefox \n",
    "driver = webdriver.Firefox()\n",
    "\n",
    "testlink = 'https://www.amazon.com/Dixie-Everyday-Exclusive-Printed-Disposable/dp/B07BHTV9VQ/ref=sr_1_7?dchild=1&keywords=paper+cups+and+plates&qid=1618587679&sr=8-7'    \n",
    "driver.get(testlink)\n",
    "\n",
    "import csv\n",
    "from bs4 import BeautifulSoup\n",
    "\n",
    "soup = BeautifulSoup(driver.page_source, 'html.parser')\n",
    "\n",
    "for div in soup.find_all('div', {'id':'feature-bullets', 'class': 'a-section'}):\n",
    "    for ul in div.find_all('ul', {'class': 'a-spacing-mini'}):\n",
    "            for span in ul.find_all('span', {'class': 'a-list-item'}):\n",
    "                pure = span.text\n",
    "                pure1 = pure.replace(\"Make sure this fits\", \" \")\n",
    "                pure2 = pure1.replace(\"by entering your model number.\", \" \")\n",
    "                pure3 = pure2.strip()\n",
    "                print(pure3)                "
   ]
  },
  {
   "cell_type": "code",
   "execution_count": null,
   "metadata": {},
   "outputs": [],
   "source": []
  }
 ],
 "metadata": {
  "kernelspec": {
   "display_name": "Python 3",
   "language": "python",
   "name": "python3"
  },
  "language_info": {
   "codemirror_mode": {
    "name": "ipython",
    "version": 3
   },
   "file_extension": ".py",
   "mimetype": "text/x-python",
   "name": "python",
   "nbconvert_exporter": "python",
   "pygments_lexer": "ipython3",
   "version": "3.8.8"
  }
 },
 "nbformat": 4,
 "nbformat_minor": 4
}
