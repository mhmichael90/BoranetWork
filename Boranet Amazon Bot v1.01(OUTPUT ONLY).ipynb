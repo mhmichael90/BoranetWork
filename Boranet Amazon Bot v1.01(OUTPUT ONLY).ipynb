{
 "cells": [
  {
   "cell_type": "code",
   "execution_count": null,
   "id": "728a4b41",
   "metadata": {},
   "outputs": [],
   "source": [
    "records.clear()"
   ]
  },
  {
   "cell_type": "markdown",
   "id": "5dada98a",
   "metadata": {},
   "source": [
    "# Boranet AMAZON SCRAPER version(1.01) \n",
    "### Property of Michael Mo and Boranet"
   ]
  },
  {
   "cell_type": "code",
   "execution_count": null,
   "id": "a6448342",
   "metadata": {},
   "outputs": [],
   "source": [
    "# Michael Mo Scraper Project for BORANET\n",
    "# FF & Chrome Driver import by selenium\n",
    "from selenium import webdriver\n",
    "\n",
    "# Launch Firefox \n",
    "driver = webdriver.Firefox()\n",
    "\n",
    "# Set Dynamic Result Page template\n",
    "def get_url(search_term):\n",
    "    template = 'https://www.amazon.com/s?k={}&ref=nb_sb_noss_1'\n",
    "    search_term = search_term.replace(' ', '+')\n",
    "    return template.format(search_term)\n",
    "\n",
    "# SET THE KEYWORD HERE!!! Sets the dynamic search_term to put inside {} in 'https://www.amazon.com/s?k={}&ref=nb_sb_noss_1'\n",
    "url = get_url('computer screen cleaner')\n",
    "\n",
    "# Activates the search\n",
    "driver.get(url)\n",
    "\n",
    "#Prepare Beautiful Soup and select through \"s-search-result\"\n",
    "import csv\n",
    "from bs4 import BeautifulSoup\n",
    "soup = BeautifulSoup(driver.page_source, 'html.parser')\n",
    "results = soup.find_all('div', {'data-component-type': 's-search-result'})\n",
    "\n",
    "# Extract TITLE, ASIN, STARS, RATINGS, URL\n",
    "def extract_record(item):\n",
    "\n",
    "    atag = item.h2.a\n",
    "    title = atag.text.strip()\n",
    "    asin = item.get('data-asin')\n",
    "    Url1 = 'https://www.amazon.com' + atag.get('href')\n",
    "\n",
    "    try:\n",
    "        price_parent = item.find('span', 'a-price')\n",
    "        price = price_parent.find('span','a-offscreen').text\n",
    "    except AttributeError:\n",
    "        return\n",
    "\n",
    "    try:\n",
    "        stars = item.i.text\n",
    "        ratings_count = item.find('span', {'class': 'a-size-base', 'dir': 'auto'}).text\n",
    "    except AttributeError:\n",
    "        stars = ''\n",
    "        ratings_count = ''\n",
    "    \n",
    "    result = (title, asin, price, stars, ratings_count, Url1)\n",
    "\n",
    "    return result\n",
    "# Creating an array of \"results(aka. product blocks)\" within \"item\" -> extracting from results for however many \"item\"s = results[0], etc. are on the SERP\n",
    "# Extract_record (TITTLE,ASIN,ETC.) from each \"item\" aka result[0], result[1]. If something is extracted, then append to records[0], records[1], etc. \n",
    "records = []\n",
    "results = soup.find_all('div', {'data-component-type': 's-search-result'})                            \n",
    "for item in results:\n",
    "    record = extract_record(item)\n",
    "    if record:                             \n",
    "            records.append(record)\n",
    "\n",
    "# TESTING OUTPUT           \n",
    "for row in records:\n",
    "            #TITLE. erase this#print(row[0])\n",
    "            #ASIN. erase this#print(row[1])\n", 
    "            #PRICE. erase this#print(row[2])\n",
    "            #STARS. erase this#print(row[3])\n",
    "            #RATINGS_COUNT. erase this#print(row[4])\n",
    "            #URL. erase this#print(row[5])\n",
    "                print(row[0], row[1], row[2], row[3], row[4], row[5])"
   ]
  },
  {
   "cell_type": "code",
   "execution_count": null,
   "id": "95acedee",
   "metadata": {},
   "outputs": [],
   "source": []
  }
 ],
 "metadata": {
  "kernelspec": {
   "display_name": "Python 3",
   "language": "python",
   "name": "python3"
  },
  "language_info": {
   "codemirror_mode": {
    "name": "ipython",
    "version": 3
   },
   "file_extension": ".py",
   "mimetype": "text/x-python",
   "name": "python",
   "nbconvert_exporter": "python",
   "pygments_lexer": "ipython3",
   "version": "3.8.8"
  }
 },
 "nbformat": 4,
 "nbformat_minor": 5
}
